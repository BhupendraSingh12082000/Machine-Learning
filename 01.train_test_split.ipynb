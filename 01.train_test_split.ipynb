{
 "cells": [
  {
   "cell_type": "markdown",
   "id": "63344598-7ec4-4a95-aa6a-0d2312b4ec89",
   "metadata": {},
   "source": [
    "# **Machine Learning –: Train & Test Datasets**\n",
    "-----\n",
    "-----"
   ]
  },
  {
   "cell_type": "markdown",
   "id": "57ba193a-99c0-4716-b639-1e3565008b6d",
   "metadata": {},
   "source": [
    "## Creating array"
   ]
  },
  {
   "cell_type": "code",
   "execution_count": 1,
   "id": "3adaa0c6-ce7d-4f09-82d6-1e826f4973fa",
   "metadata": {},
   "outputs": [],
   "source": [
    "import numpy as np"
   ]
  },
  {
   "cell_type": "code",
   "execution_count": 3,
   "id": "576999ea-22d6-469a-a370-e8137972130d",
   "metadata": {},
   "outputs": [
    {
     "data": {
      "text/plain": [
       "array([0, 1, 2, 3, 4, 5, 6, 7, 8, 9])"
      ]
     },
     "execution_count": 3,
     "metadata": {},
     "output_type": "execute_result"
    }
   ],
   "source": [
    "ar = np.arange(10)\n",
    "ar"
   ]
  },
  {
   "cell_type": "markdown",
   "id": "236b8b67-83d2-4a28-9de6-953412659e43",
   "metadata": {},
   "source": [
    "## train_test_split(p) function"
   ]
  },
  {
   "cell_type": "code",
   "execution_count": 4,
   "id": "bead5b1a-b96d-4f9c-ae2c-f156d1c1ef3d",
   "metadata": {},
   "outputs": [],
   "source": [
    "from sklearn.model_selection import train_test_split"
   ]
  },
  {
   "cell_type": "code",
   "execution_count": 7,
   "id": "62af8741-d737-48d5-8640-b220be81c8e4",
   "metadata": {},
   "outputs": [
    {
     "name": "stdout",
     "output_type": "stream",
     "text": [
      "[0 1 2 3 4 5 6 7 8 9]\n",
      "\n",
      "[array([9, 3, 5, 4, 2, 0, 7]), array([1, 8, 6])]\n"
     ]
    }
   ],
   "source": [
    "dataset = np.arange(10) \n",
    " \n",
    "result = train_test_split(dataset) \n",
    " \n",
    "print(dataset) \n",
    "print()\n",
    "print(result)\n"
   ]
  },
  {
   "cell_type": "markdown",
   "id": "7d3f2d08-2922-412f-aba7-e06b0bb16c78",
   "metadata": {},
   "source": [
    "## Creating an array and splitting"
   ]
  },
  {
   "cell_type": "code",
   "execution_count": 9,
   "id": "26ac9d70-fb62-4c7b-964c-048aeb11f6ef",
   "metadata": {},
   "outputs": [
    {
     "name": "stdout",
     "output_type": "stream",
     "text": [
      "[0 1 2 3 4 5 6 7 8 9]\n",
      "\n",
      "[4 8 5 9 1 0 6]\n",
      "[3 7 2]\n"
     ]
    }
   ],
   "source": [
    "dataset = np.arange(10) \n",
    " \n",
    "X_train,X_test = train_test_split(dataset) \n",
    " \n",
    "print(dataset) \n",
    "print()\n",
    "print(X_train)\n",
    "print(X_test)\n"
   ]
  },
  {
   "cell_type": "markdown",
   "id": "b90204aa-ce88-468a-afb9-14d7d4637b97",
   "metadata": {},
   "source": [
    "## Given test size"
   ]
  },
  {
   "cell_type": "code",
   "execution_count": 13,
   "id": "b581a521-c005-479a-a5d8-c35438f9e1b4",
   "metadata": {},
   "outputs": [
    {
     "name": "stdout",
     "output_type": "stream",
     "text": [
      "[0 1 2 3 4 5 6 7 8 9]\n",
      "\n",
      "[4 0 9 1 6 7]\n",
      "[5 8 3 2]\n"
     ]
    }
   ],
   "source": [
    "X_train,X_test = train_test_split(dataset,test_size = 4)\n",
    "\n",
    "print(dataset)\n",
    "print()\n",
    "print(X_train)\n",
    "print(X_test)\n"
   ]
  },
  {
   "cell_type": "markdown",
   "id": "75cd9b03-e412-413a-8e0a-c243e1895fcc",
   "metadata": {},
   "source": [
    "## Given train size"
   ]
  },
  {
   "cell_type": "code",
   "execution_count": 14,
   "id": "f174d027-9191-497f-ad21-b2545bb68840",
   "metadata": {},
   "outputs": [
    {
     "name": "stdout",
     "output_type": "stream",
     "text": [
      "[0 1 2 3 4 5 6 7 8 9]\n",
      "\n",
      "[1 9 4 3 8 2]\n",
      "[7 6 5 0]\n"
     ]
    }
   ],
   "source": [
    "X_train,X_test = train_test_split(dataset,train_size = 6)\n",
    "\n",
    "print(dataset)\n",
    "print()\n",
    "print(X_train)\n",
    "print(X_test)\n"
   ]
  },
  {
   "cell_type": "markdown",
   "id": "baca5cec-a55c-451a-9a34-30ebecf72219",
   "metadata": {},
   "source": [
    "### Percentage wise given train_size & test_size "
   ]
  },
  {
   "cell_type": "code",
   "execution_count": 15,
   "id": "708f0d05-4e53-435b-b73d-00b097215d23",
   "metadata": {},
   "outputs": [
    {
     "name": "stdout",
     "output_type": "stream",
     "text": [
      "[0 1 2 3 4 5 6 7 8 9]\n",
      "\n",
      "[9 5 8 7 4 2]\n",
      "[0 3 1 6]\n"
     ]
    }
   ],
   "source": [
    "X_train,X_test = train_test_split(dataset, train_size = 0.6, test_size = 0.4)\n",
    "\n",
    "print(dataset)\n",
    "print()\n",
    "print(X_train)\n",
    "print(X_test)\n"
   ]
  },
  {
   "cell_type": "code",
   "execution_count": null,
   "id": "aa18037e-6c31-4925-bac0-1885bf55894a",
   "metadata": {},
   "outputs": [],
   "source": []
  },
  {
   "cell_type": "markdown",
   "id": "6848fea8-01cf-4521-bd0e-5eb87a2787ae",
   "metadata": {},
   "source": [
    "### ***Creating an array an Splitting***"
   ]
  },
  {
   "cell_type": "code",
   "execution_count": 17,
   "id": "ea81200a-7b69-4a42-ba6a-7451c05d43ae",
   "metadata": {},
   "outputs": [
    {
     "name": "stdout",
     "output_type": "stream",
     "text": [
      "[ 0  1  2  3  4  5  6  7  8  9 10 11 12 13 14 15 16 17 18 19]\n"
     ]
    }
   ],
   "source": [
    "dataset = np.arange(20)\n",
    "\n",
    "print(dataset)"
   ]
  },
  {
   "cell_type": "code",
   "execution_count": 18,
   "id": "73cac2ff-2055-4036-a8e7-43b379a9c57d",
   "metadata": {},
   "outputs": [
    {
     "data": {
      "text/plain": [
       "[array([19, 12,  0,  8,  4,  3, 11, 14, 16, 17,  6, 18,  2,  5,  9]),\n",
       " array([10, 13,  1,  7, 15])]"
      ]
     },
     "execution_count": 18,
     "metadata": {},
     "output_type": "execute_result"
    }
   ],
   "source": [
    "\n",
    "result = train_test_split(dataset)\n",
    "result\n"
   ]
  },
  {
   "cell_type": "markdown",
   "id": "9eb34aa5-58f8-45eb-a0d5-afd0dd69e8ec",
   "metadata": {},
   "source": [
    "### Using reshape() method"
   ]
  },
  {
   "cell_type": "code",
   "execution_count": 21,
   "id": "4e81f113-d3a1-43ce-9ace-9b05d44d112e",
   "metadata": {},
   "outputs": [],
   "source": [
    "dataset = np.arange(20).reshape(2,10)"
   ]
  },
  {
   "cell_type": "code",
   "execution_count": 22,
   "id": "ffd8d949-3020-42aa-b8a4-198c6c21da52",
   "metadata": {
    "scrolled": true
   },
   "outputs": [
    {
     "data": {
      "text/plain": [
       "array([[ 0,  1,  2,  3,  4,  5,  6,  7,  8,  9],\n",
       "       [10, 11, 12, 13, 14, 15, 16, 17, 18, 19]])"
      ]
     },
     "execution_count": 22,
     "metadata": {},
     "output_type": "execute_result"
    }
   ],
   "source": [
    "dataset"
   ]
  },
  {
   "cell_type": "markdown",
   "id": "bed1ac1f-cd6a-4ba7-84a4-68eb1317e384",
   "metadata": {},
   "source": [
    "### Using T attributes"
   ]
  },
  {
   "cell_type": "code",
   "execution_count": 24,
   "id": "8caed18a-971f-4fb2-97bc-76f55b813135",
   "metadata": {},
   "outputs": [
    {
     "data": {
      "text/plain": [
       "array([[ 0, 10],\n",
       "       [ 1, 11],\n",
       "       [ 2, 12],\n",
       "       [ 3, 13],\n",
       "       [ 4, 14],\n",
       "       [ 5, 15],\n",
       "       [ 6, 16],\n",
       "       [ 7, 17],\n",
       "       [ 8, 18],\n",
       "       [ 9, 19]])"
      ]
     },
     "execution_count": 24,
     "metadata": {},
     "output_type": "execute_result"
    }
   ],
   "source": [
    "dataset = np.arange(20).reshape(2,10).T\n",
    "\n",
    "dataset"
   ]
  },
  {
   "cell_type": "markdown",
   "id": "dc1505a9-929d-4c08-b13f-e2374780812b",
   "metadata": {},
   "source": [
    "### Splitting and  train & test dataset"
   ]
  },
  {
   "cell_type": "code",
   "execution_count": 27,
   "id": "cef603d7-d6a1-46e2-8f7d-b5debf72d995",
   "metadata": {},
   "outputs": [
    {
     "name": "stdout",
     "output_type": "stream",
     "text": [
      "[[ 1 11]\n",
      " [ 0 10]\n",
      " [ 7 17]\n",
      " [ 5 15]\n",
      " [ 8 18]\n",
      " [ 2 12]\n",
      " [ 4 14]]\n",
      "\n",
      "[[ 9 19]\n",
      " [ 6 16]\n",
      " [ 3 13]]\n"
     ]
    }
   ],
   "source": [
    "X_train,X_test = train_test_split(dataset)\n",
    "\n",
    "print(X_train)\n",
    "print()\n",
    "print(X_test)"
   ]
  },
  {
   "cell_type": "code",
   "execution_count": null,
   "id": "e00759fc-182d-439a-aa11-75b1ed8935d4",
   "metadata": {},
   "outputs": [],
   "source": []
  },
  {
   "cell_type": "code",
   "execution_count": 31,
   "id": "93364851-74a5-4a0d-8c90-d22eef0b2e84",
   "metadata": {},
   "outputs": [
    {
     "name": "stdout",
     "output_type": "stream",
     "text": [
      "[[ 2 12]\n",
      " [ 5 15]\n",
      " [ 9 19]\n",
      " [ 6 16]\n",
      " [ 4 14]\n",
      " [ 1 11]\n",
      " [ 8 18]]\n",
      "\n",
      "[[ 7 17]\n",
      " [ 0 10]\n",
      " [ 3 13]]\n",
      "\n",
      "[2 5 9 6 4 1 8]\n",
      "\n",
      "[7 0 3]\n"
     ]
    }
   ],
   "source": [
    "X = np.arange(20).reshape(2, 10).T \n",
    " \n",
    "y = np.arange(10) \n",
    " \n",
    "X_train, X_test, y_train, y_test = train_test_split(X, y) \n",
    " \n",
    "print(X_train) \n",
    "print() \n",
    "print(X_test) \n",
    "print() \n",
    "\n",
    "print(y_train) \n",
    "print() \n",
    "print(y_test) \n"
   ]
  },
  {
   "cell_type": "markdown",
   "id": "0dd286b8-69d8-48a1-8203-6b6e703ab488",
   "metadata": {},
   "source": [
    "## Using **( random_state = 0 )** keyword arguments that is purpose of no suffeling"
   ]
  },
  {
   "cell_type": "code",
   "execution_count": 33,
   "id": "b2264ba6-82c3-4827-b8e8-b53b2d4e5fe9",
   "metadata": {},
   "outputs": [
    {
     "name": "stdout",
     "output_type": "stream",
     "text": [
      "[[ 9 19]\n",
      " [ 1 11]\n",
      " [ 6 16]\n",
      " [ 7 17]\n",
      " [ 3 13]\n",
      " [ 0 10]\n",
      " [ 5 15]]\n",
      "\n",
      "[[ 2 12]\n",
      " [ 8 18]\n",
      " [ 4 14]]\n",
      "\n",
      "[9 1 6 7 3 0 5]\n",
      "\n",
      "[2 8 4]\n"
     ]
    }
   ],
   "source": [
    "X = np.arange(20).reshape(2, 10).T \n",
    " \n",
    "y = np.arange(10) \n",
    " \n",
    "X_train, X_test, y_train, y_test = train_test_split(X, y, random_state = 0) \n",
    " \n",
    "print(X_train) \n",
    "print() \n",
    "print(X_test) \n",
    "print() \n",
    "\n",
    "print(y_train) \n",
    "print() \n",
    "print(y_test) \n"
   ]
  },
  {
   "cell_type": "code",
   "execution_count": null,
   "id": "07f12ad2-d4e6-49e9-a011-b9315c0ef413",
   "metadata": {},
   "outputs": [],
   "source": []
  }
 ],
 "metadata": {
  "kernelspec": {
   "display_name": "Python 3 (ipykernel)",
   "language": "python",
   "name": "python3"
  },
  "language_info": {
   "codemirror_mode": {
    "name": "ipython",
    "version": 3
   },
   "file_extension": ".py",
   "mimetype": "text/x-python",
   "name": "python",
   "nbconvert_exporter": "python",
   "pygments_lexer": "ipython3",
   "version": "3.11.4"
  }
 },
 "nbformat": 4,
 "nbformat_minor": 5
}
