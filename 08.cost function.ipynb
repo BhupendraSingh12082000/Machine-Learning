{
 "cells": [
  {
   "cell_type": "markdown",
   "id": "d199933d-fde9-4e2b-a18a-c3467ac0b015",
   "metadata": {},
   "source": [
    "# **Machine Learning –: Regression Cost function**\n",
    "------\n",
    "-----\n",
    "-  Cost function is a function that takes both predicted outputs and actual outputs from model"
   ]
  },
  {
   "cell_type": "markdown",
   "id": "10b7867c-9021-4bd2-8129-d0ef5e30a241",
   "metadata": {},
   "source": [
    "### 1. Means Squared Error \n"
   ]
  },
  {
   "cell_type": "code",
   "execution_count": 2,
   "id": "2fa11c20-227d-42be-ad06-e06933f3d8a2",
   "metadata": {},
   "outputs": [],
   "source": [
    "from sklearn.metrics import mean_squared_error"
   ]
  },
  {
   "cell_type": "code",
   "execution_count": 3,
   "id": "69349825-1020-467a-abb5-d1cf07977350",
   "metadata": {},
   "outputs": [
    {
     "name": "stdout",
     "output_type": "stream",
     "text": [
      "0.35000000000000003\n"
     ]
    }
   ],
   "source": [
    " \n",
    "expected = [1.0, 1.0, 1.0, 1.0, 1.0, 1.0, 1.0, 1.0, 1.0, 1.0, 1.0] \n",
    "predicted = [1.0, 0.9, 0.8, 0.7, 0.6, 0.5, 0.4, 0.3, 0.2, 0.1, 0.0] \n",
    "\n",
    "mse_value = mean_squared_error(expected, predicted) \n",
    "\n",
    "print(mse_value)\n"
   ]
  },
  {
   "cell_type": "markdown",
   "id": "14d4ed8c-76e2-494f-9803-0c0f8f696427",
   "metadata": {},
   "source": [
    "### 2. Root Mean Squared Error"
   ]
  },
  {
   "cell_type": "code",
   "execution_count": 4,
   "id": "26603275-4daf-4787-92b1-260c0ba80646",
   "metadata": {},
   "outputs": [
    {
     "name": "stdout",
     "output_type": "stream",
     "text": [
      "0.5916079783099616\n"
     ]
    },
    {
     "name": "stderr",
     "output_type": "stream",
     "text": [
      "C:\\Users\\hp\\AppData\\Roaming\\Python\\Python311\\site-packages\\sklearn\\metrics\\_regression.py:492: FutureWarning: 'squared' is deprecated in version 1.4 and will be removed in 1.6. To calculate the root mean squared error, use the function'root_mean_squared_error'.\n",
      "  warnings.warn(\n"
     ]
    }
   ],
   "source": [
    "\n",
    "rmse_value = mean_squared_error(expected, predicted, squared = False) \n",
    "\n",
    "print(rmse_value)"
   ]
  },
  {
   "cell_type": "markdown",
   "id": "fedb3c23-272c-4723-8aad-242b413d522d",
   "metadata": {},
   "source": [
    "- #### After Import warnings"
   ]
  },
  {
   "cell_type": "code",
   "execution_count": 8,
   "id": "42e9df6c-b5d0-4412-a8bf-2e60b494309a",
   "metadata": {},
   "outputs": [],
   "source": [
    "import warnings\n",
    "\n",
    "warnings.filterwarnings(\"ignore\")"
   ]
  },
  {
   "cell_type": "code",
   "execution_count": 9,
   "id": "6c6a96aa-53e4-4d20-8b9f-ec79edb9c3d2",
   "metadata": {},
   "outputs": [
    {
     "name": "stdout",
     "output_type": "stream",
     "text": [
      "0.5916079783099616\n"
     ]
    }
   ],
   "source": [
    "\n",
    "rmse_value = mean_squared_error(expected, predicted, squared = False) \n",
    "\n",
    "print(rmse_value)"
   ]
  },
  {
   "cell_type": "markdown",
   "id": "35904997-4b12-4d2e-9c82-02bbda55c238",
   "metadata": {},
   "source": [
    "- #### We can also find **RMSE** using numpy "
   ]
  },
  {
   "cell_type": "code",
   "execution_count": 15,
   "id": "d93abee0-fc3a-46ad-a399-ed11988392d3",
   "metadata": {},
   "outputs": [],
   "source": [
    "import numpy as np"
   ]
  },
  {
   "cell_type": "code",
   "execution_count": 16,
   "id": "efaee123-1408-49aa-b54a-8b9ccb119720",
   "metadata": {},
   "outputs": [
    {
     "data": {
      "text/plain": [
       "0.5916079783099616"
      ]
     },
     "execution_count": 16,
     "metadata": {},
     "output_type": "execute_result"
    }
   ],
   "source": [
    "rmse_value = np.sqrt(mse_value)\n",
    "\n",
    "rmse_value"
   ]
  },
  {
   "cell_type": "markdown",
   "id": "ff69858e-f4de-4ab0-9f0e-c4afba4434bd",
   "metadata": {},
   "source": [
    "### 3. Mean Absolute Error"
   ]
  },
  {
   "cell_type": "code",
   "execution_count": 10,
   "id": "0633c4e6-70ec-4d2c-963e-a49b164a8305",
   "metadata": {},
   "outputs": [],
   "source": [
    "from sklearn.metrics import mean_absolute_error"
   ]
  },
  {
   "cell_type": "code",
   "execution_count": 13,
   "id": "3aa5f9b8-4042-412c-8bc3-538b9376662e",
   "metadata": {},
   "outputs": [
    {
     "name": "stdout",
     "output_type": "stream",
     "text": [
      "0.5\n"
     ]
    }
   ],
   "source": [
    "\n",
    "mae_value = mean_absolute_error(expected, predicted) \n",
    "\n",
    "print(mae_value)"
   ]
  },
  {
   "cell_type": "code",
   "execution_count": null,
   "id": "ee78cc58-4536-415a-aa28-4380021a3bcb",
   "metadata": {},
   "outputs": [],
   "source": []
  }
 ],
 "metadata": {
  "kernelspec": {
   "display_name": "Python 3 (ipykernel)",
   "language": "python",
   "name": "python3"
  },
  "language_info": {
   "codemirror_mode": {
    "name": "ipython",
    "version": 3
   },
   "file_extension": ".py",
   "mimetype": "text/x-python",
   "name": "python",
   "nbconvert_exporter": "python",
   "pygments_lexer": "ipython3",
   "version": "3.11.4"
  }
 },
 "nbformat": 4,
 "nbformat_minor": 5
}
