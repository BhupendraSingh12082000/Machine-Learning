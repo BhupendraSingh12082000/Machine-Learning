{
 "cells": [
  {
   "cell_type": "markdown",
   "id": "6af02203-727c-4136-a469-0f4ce401afbd",
   "metadata": {},
   "source": [
    "# **Machine Learning -: R value**\n",
    "-------\n",
    "- #### r value explains about how variables are related each other.This is very important step to recognise relationship in between values of x-axis and y-axis. \n",
    "    - #### **r value range** The r values range, from -1 to 1.  While calculating if we get r value as near to -1 or 1 then those variables are strongly related each other\n",
    "-------"
   ]
  },
  {
   "cell_type": "markdown",
   "id": "b2226a2e-d407-43d5-841f-7e67c97c5231",
   "metadata": {},
   "source": [
    "- ### Import required Libraries"
   ]
  },
  {
   "cell_type": "code",
   "execution_count": 1,
   "id": "16cc086a-13e5-46a8-b1bd-2a7ac9ba5c8d",
   "metadata": {},
   "outputs": [],
   "source": [
    "import pandas as pd\n",
    "import numpy as np"
   ]
  },
  {
   "cell_type": "markdown",
   "id": "680604d0-48e8-498e-8ce8-3e502d3b0920",
   "metadata": {},
   "source": [
    "- ### Create DataFrame"
   ]
  },
  {
   "cell_type": "code",
   "execution_count": 2,
   "id": "ac2ffc41-cba3-454a-a574-e78f57f5a9a8",
   "metadata": {},
   "outputs": [],
   "source": [
    "d = { \n",
    " \"area\": [1, 2, 3, 4], \n",
    " \"rice_yield\": [10, 20, 30, 40] \n",
    "} \n",
    " \n",
    "df = pd.DataFrame(d) "
   ]
  },
  {
   "cell_type": "code",
   "execution_count": 3,
   "id": "d6c0797d-af28-4d96-9ee9-bb5850dfcbe0",
   "metadata": {},
   "outputs": [
    {
     "data": {
      "text/html": [
       "<div>\n",
       "<style scoped>\n",
       "    .dataframe tbody tr th:only-of-type {\n",
       "        vertical-align: middle;\n",
       "    }\n",
       "\n",
       "    .dataframe tbody tr th {\n",
       "        vertical-align: top;\n",
       "    }\n",
       "\n",
       "    .dataframe thead th {\n",
       "        text-align: right;\n",
       "    }\n",
       "</style>\n",
       "<table border=\"1\" class=\"dataframe\">\n",
       "  <thead>\n",
       "    <tr style=\"text-align: right;\">\n",
       "      <th></th>\n",
       "      <th>area</th>\n",
       "      <th>rice_yield</th>\n",
       "    </tr>\n",
       "  </thead>\n",
       "  <tbody>\n",
       "    <tr>\n",
       "      <th>0</th>\n",
       "      <td>1</td>\n",
       "      <td>10</td>\n",
       "    </tr>\n",
       "    <tr>\n",
       "      <th>1</th>\n",
       "      <td>2</td>\n",
       "      <td>20</td>\n",
       "    </tr>\n",
       "    <tr>\n",
       "      <th>2</th>\n",
       "      <td>3</td>\n",
       "      <td>30</td>\n",
       "    </tr>\n",
       "    <tr>\n",
       "      <th>3</th>\n",
       "      <td>4</td>\n",
       "      <td>40</td>\n",
       "    </tr>\n",
       "  </tbody>\n",
       "</table>\n",
       "</div>"
      ],
      "text/plain": [
       "   area  rice_yield\n",
       "0     1          10\n",
       "1     2          20\n",
       "2     3          30\n",
       "3     4          40"
      ]
     },
     "execution_count": 3,
     "metadata": {},
     "output_type": "execute_result"
    }
   ],
   "source": [
    "df"
   ]
  },
  {
   "cell_type": "markdown",
   "id": "221f4803-82e7-4e3c-b244-ac793e934499",
   "metadata": {},
   "source": [
    "- ### Data Preparation"
   ]
  },
  {
   "cell_type": "code",
   "execution_count": 4,
   "id": "1f4c9083-3d96-4d41-9ecc-169bbdbb880c",
   "metadata": {},
   "outputs": [],
   "source": [
    "X = df[['area']].values\n",
    "y = df.rice_yield.values"
   ]
  },
  {
   "cell_type": "code",
   "execution_count": 5,
   "id": "998c0bd3-f174-4e78-aa0e-0bd0ff90e243",
   "metadata": {},
   "outputs": [
    {
     "data": {
      "text/plain": [
       "array([[1],\n",
       "       [2],\n",
       "       [3],\n",
       "       [4]], dtype=int64)"
      ]
     },
     "execution_count": 5,
     "metadata": {},
     "output_type": "execute_result"
    }
   ],
   "source": [
    "X"
   ]
  },
  {
   "cell_type": "code",
   "execution_count": 6,
   "id": "118ebb45-3bf5-4d24-9b49-40264387c395",
   "metadata": {},
   "outputs": [
    {
     "data": {
      "text/plain": [
       "array([10, 20, 30, 40], dtype=int64)"
      ]
     },
     "execution_count": 6,
     "metadata": {},
     "output_type": "execute_result"
    }
   ],
   "source": [
    "y"
   ]
  },
  {
   "cell_type": "markdown",
   "id": "aa6d2379-4942-4930-bc8b-3f13f32e5d86",
   "metadata": {},
   "source": [
    "- ### Plotting x and y values"
   ]
  },
  {
   "cell_type": "code",
   "execution_count": 7,
   "id": "3fd30a39-f592-4900-bf89-20e1225b10fa",
   "metadata": {},
   "outputs": [],
   "source": [
    "import matplotlib.pyplot as plt"
   ]
  },
  {
   "cell_type": "code",
   "execution_count": 8,
   "id": "5f575f94-fa66-4bf3-a458-7e7303a4bb34",
   "metadata": {},
   "outputs": [
    {
     "data": {
      "image/png": "[encoded data removed]",
      "text/plain": [
       "<Figure size 500x300 with 1 Axes>"
      ]
     },
     "metadata": {},
     "output_type": "display_data"
    }
   ],
   "source": [
    "plt.figure(figsize = (5,3))\n",
    "plt.xlabel(\"X\") \n",
    "plt.ylabel(\"y\") \n",
    " \n",
    "plt.scatter(X, y,c = 'r') \n",
    "plt.show() "
   ]
  },
  {
   "cell_type": "markdown",
   "id": "fde5ef82-d3ce-4a92-bad1-08756d9544b5",
   "metadata": {},
   "source": [
    "- ### Calculating r value"
   ]
  },
  {
   "cell_type": "code",
   "execution_count": 9,
   "id": "f06e86a2-337e-4e05-8df1-1de083f10650",
   "metadata": {},
   "outputs": [],
   "source": [
    "from scipy import stats "
   ]
  },
  {
   "cell_type": "code",
   "execution_count": 10,
   "id": "5cc62148-573f-4d81-8046-fe97038fda1a",
   "metadata": {},
   "outputs": [
    {
     "name": "stdout",
     "output_type": "stream",
     "text": [
      "1.0\n"
     ]
    }
   ],
   "source": [
    "# Ensure X is a 1D array\n",
    "\n",
    "X = np.ravel(X)  # Flattens X to 1D if it is 2D\n",
    "\n",
    "slope, intercept, r_value, p_value, std_err = stats.linregress(X, y) \n",
    "\n",
    "print(r_value) \n"
   ]
  },
  {
   "cell_type": "markdown",
   "id": "3b44942b-8f13-4409-a21a-c338440ebd75",
   "metadata": {},
   "source": [
    "- ### Creating new DataFrame and Calculating r value"
   ]
  },
  {
   "cell_type": "code",
   "execution_count": 11,
   "id": "8fd4420e-a4d5-42ee-bb08-6fc3b745e042",
   "metadata": {},
   "outputs": [
    {
     "name": "stdout",
     "output_type": "stream",
     "text": [
      "      a       b\n",
      "0   600  550000\n",
      "1  3000  565000\n",
      "2     2  610000\n",
      "3  3600  680000\n",
      "4     4  725000\n",
      "\n",
      "r_value is : -0.06533879637370224\n"
     ]
    }
   ],
   "source": [
    "import pandas as pd \n",
    "from scipy import stats \n",
    " \n",
    "d = { \n",
    "     \"a\": [600, 3000, 2, 3600, 4], \n",
    "     \"b\": [550000, 565000, 610000, 680000, 725000] \n",
    "} \n",
    " \n",
    "df = pd.DataFrame(d) \n",
    "print(df)\n",
    "print()\n",
    "\n",
    "X = df.a.values \n",
    "y = df.b.values \n",
    " \n",
    "slope, intercept, r_value, p_value, std_err = stats.linregress(X, y) \n",
    " \n",
    "print(\"r_value is :\",r_value) "
   ]
  },
  {
   "cell_type": "code",
   "execution_count": null,
   "id": "435d0099-9bb8-4854-9aa7-f99cfa73e415",
   "metadata": {},
   "outputs": [],
   "source": []
  },
  {
   "cell_type": "code",
   "execution_count": null,
   "id": "44fffd0b-fbac-42bb-8be6-e0668b7a4ffa",
   "metadata": {},
   "outputs": [],
   "source": []
  },
  {
   "cell_type": "code",
   "execution_count": null,
   "id": "7f04f86e-b747-4f84-b88b-b0157373567e",
   "metadata": {},
   "outputs": [],
   "source": []
  }
 ],
 "metadata": {
  "kernelspec": {
   "display_name": "Python 3 (ipykernel)",
   "language": "python",
   "name": "python3"
  },
  "language_info": {
   "codemirror_mode": {
    "name": "ipython",
    "version": 3
   },
   "file_extension": ".py",
   "mimetype": "text/x-python",
   "name": "python",
   "nbconvert_exporter": "python",
   "pygments_lexer": "ipython3",
   "version": "3.11.4"
  }
 },
 "nbformat": 4,
 "nbformat_minor": 5
}
