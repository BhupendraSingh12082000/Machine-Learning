{
 "cells": [
  {
   "cell_type": "markdown",
   "id": "baed0de3-8334-4c50-8e41-a4a48fc430ba",
   "metadata": {},
   "source": [
    "# **Machine Learning –: K Fold Cross Validation**\n",
    "-------\n",
    "-------"
   ]
  },
  {
   "cell_type": "markdown",
   "id": "c3940bc2-a866-48a2-8979-536e0c511657",
   "metadata": {},
   "source": [
    "### Loading the Dataset"
   ]
  },
  {
   "cell_type": "code",
   "execution_count": 1,
   "id": "41de7262-7ee4-45db-8a0c-00682873281c",
   "metadata": {},
   "outputs": [],
   "source": [
    "from sklearn.datasets import load_digits \n"
   ]
  },
  {
   "cell_type": "code",
   "execution_count": 2,
   "id": "3d5d9613-c3e9-4d6a-aa12-7a6e556491a0",
   "metadata": {},
   "outputs": [],
   "source": [
    "digits = load_digits()"
   ]
  },
  {
   "cell_type": "markdown",
   "id": "50cff862-2ca0-4429-a0b4-c798fb65bbd9",
   "metadata": {},
   "source": [
    "### Data Preparation"
   ]
  },
  {
   "cell_type": "code",
   "execution_count": 3,
   "id": "be5b0d93-53d3-4c6b-93e5-98356d9df2a4",
   "metadata": {},
   "outputs": [
    {
     "data": {
      "text/plain": [
       "array([[ 0.,  0.,  5., ...,  0.,  0.,  0.],\n",
       "       [ 0.,  0.,  0., ..., 10.,  0.,  0.],\n",
       "       [ 0.,  0.,  0., ..., 16.,  9.,  0.],\n",
       "       ...,\n",
       "       [ 0.,  0.,  1., ...,  6.,  0.,  0.],\n",
       "       [ 0.,  0.,  2., ..., 12.,  0.,  0.],\n",
       "       [ 0.,  0., 10., ..., 12.,  1.,  0.]])"
      ]
     },
     "execution_count": 3,
     "metadata": {},
     "output_type": "execute_result"
    }
   ],
   "source": [
    "X = digits.data\n",
    "y = digits.target\n",
    "\n",
    "X"
   ]
  },
  {
   "cell_type": "code",
   "execution_count": 4,
   "id": "78e44f17-c123-4f2c-9999-31d77e91d247",
   "metadata": {},
   "outputs": [
    {
     "data": {
      "text/plain": [
       "array([0, 1, 2, ..., 8, 9, 8])"
      ]
     },
     "execution_count": 4,
     "metadata": {},
     "output_type": "execute_result"
    }
   ],
   "source": [
    "y"
   ]
  },
  {
   "cell_type": "markdown",
   "id": "cffecfe0-c46b-448c-9e5e-c820dd90ffb4",
   "metadata": {},
   "source": [
    "### Splitting the Dataset"
   ]
  },
  {
   "cell_type": "code",
   "execution_count": 5,
   "id": "26b461e7-fbe5-492f-965f-d26cba6a3f2a",
   "metadata": {},
   "outputs": [],
   "source": [
    "from sklearn.model_selection import train_test_split"
   ]
  },
  {
   "cell_type": "code",
   "execution_count": 6,
   "id": "242a364d-624d-46b5-bf4a-761c6dbfb8b2",
   "metadata": {},
   "outputs": [],
   "source": [
    "X_train, X_test, y_train, y_test = train_test_split(X, y , test_size = 0.2)"
   ]
  },
  {
   "cell_type": "markdown",
   "id": "409ce2b7-8a8a-47fa-9bbe-7229dae02931",
   "metadata": {},
   "source": [
    "### Model Creation \n",
    "- ### Applying **logistic** regression"
   ]
  },
  {
   "cell_type": "code",
   "execution_count": 7,
   "id": "0c613412-525a-4b8d-ab4e-6d668dc855c5",
   "metadata": {},
   "outputs": [
    {
     "name": "stdout",
     "output_type": "stream",
     "text": [
      "0.9583333333333334\n"
     ]
    }
   ],
   "source": [
    "from sklearn.linear_model import LogisticRegression\n",
    "\n",
    "lr = LogisticRegression(solver = 'lbfgs', max_iter = 3000)\n",
    "\n",
    "lr.fit(X_train, y_train)\n",
    "\n",
    "print(lr.score(X_test, y_test))\n"
   ]
  },
  {
   "cell_type": "markdown",
   "id": "52a78ef1-864b-4c78-abe4-c1cd0670b6a0",
   "metadata": {},
   "source": [
    "- ### Applying **SVM** algorithm"
   ]
  },
  {
   "cell_type": "code",
   "execution_count": 8,
   "id": "a2c6e2b2-30fc-434d-87c8-59f4bad7c14b",
   "metadata": {},
   "outputs": [
    {
     "name": "stdout",
     "output_type": "stream",
     "text": [
      "0.9888888888888889\n"
     ]
    }
   ],
   "source": [
    "from sklearn.svm import SVC\n",
    "\n",
    "svm = SVC() \n",
    "\n",
    "svm.fit(X_train, y_train) \n",
    " \n",
    "print(svm.score(X_test, y_test))\n"
   ]
  },
  {
   "cell_type": "markdown",
   "id": "dbd19fea-719c-409b-8636-b721c5dd5b9c",
   "metadata": {},
   "source": [
    "- ### Applying **Random forest** algorithm"
   ]
  },
  {
   "cell_type": "code",
   "execution_count": 9,
   "id": "88e5fed6-7ad9-4254-963f-cd47793340aa",
   "metadata": {},
   "outputs": [
    {
     "name": "stdout",
     "output_type": "stream",
     "text": [
      "0.9666666666666667\n"
     ]
    }
   ],
   "source": [
    "from sklearn.ensemble import RandomForestClassifier\n",
    "\n",
    "rf = RandomForestClassifier(n_estimators=40) \n",
    "\n",
    "rf.fit(X_train, y_train) \n",
    " \n",
    "print(rf.score(X_test, y_test)) \n"
   ]
  },
  {
   "cell_type": "markdown",
   "id": "0d87dac0-c17d-41e0-9472-69e18177acf2",
   "metadata": {},
   "source": [
    "- ### Applying **K fold Cross** validation"
   ]
  },
  {
   "cell_type": "code",
   "execution_count": 10,
   "id": "c8de71f8-59a0-42d7-bc48-7302455220ec",
   "metadata": {},
   "outputs": [
    {
     "data": {
      "text/plain": [
       "KFold(n_splits=3, random_state=None, shuffle=False)"
      ]
     },
     "execution_count": 10,
     "metadata": {},
     "output_type": "execute_result"
    }
   ],
   "source": [
    "from sklearn.model_selection import KFold \n",
    "\n",
    "kf = KFold(n_splits = 3) \n",
    "\n",
    "kf"
   ]
  },
  {
   "cell_type": "code",
   "execution_count": 11,
   "id": "c5a6fb88-fdf4-4fbe-8877-062624100503",
   "metadata": {},
   "outputs": [
    {
     "name": "stdout",
     "output_type": "stream",
     "text": [
      "[3 4 5 6 7 8] [0 1 2]\n",
      "[0 1 2 6 7 8] [3 4 5]\n",
      "[0 1 2 3 4 5] [6 7 8]\n"
     ]
    }
   ],
   "source": [
    "for train_index, test_index in kf.split([1,2,3,4,5,6,7,8,9]): \n",
    "    \n",
    "    print(train_index, test_index)"
   ]
  },
  {
   "cell_type": "markdown",
   "id": "1042b369-75a2-4bb7-be81-f6fb390fb494",
   "metadata": {},
   "source": [
    "### **Logistic regression** model performance using **cross_val_score**"
   ]
  },
  {
   "cell_type": "code",
   "execution_count": 12,
   "id": "ee47517a-ef13-498d-9a63-7fa96c0e6eb7",
   "metadata": {},
   "outputs": [],
   "source": [
    "from sklearn.model_selection import cross_val_score \n"
   ]
  },
  {
   "cell_type": "code",
   "execution_count": 13,
   "id": "c1783ea7-a6b9-4b6d-a0b1-de65cedce22b",
   "metadata": {},
   "outputs": [
    {
     "data": {
      "text/plain": [
       "array([0.91986644, 0.94323873, 0.91652755])"
      ]
     },
     "execution_count": 13,
     "metadata": {},
     "output_type": "execute_result"
    }
   ],
   "source": [
    "a = LogisticRegression(solver = 'lbfgs', max_iter = 5000) \n",
    "\n",
    "scores1 = cross_val_score(a, digits.data, digits.target, cv = 3)\n",
    "\n",
    "scores1"
   ]
  },
  {
   "cell_type": "markdown",
   "id": "59be0d2a-4ea3-4363-b31f-34d457ae9585",
   "metadata": {},
   "source": [
    "### **SVM** model performance using **cross_val_score** "
   ]
  },
  {
   "cell_type": "code",
   "execution_count": 14,
   "id": "fa268657-16a8-4083-bd48-54b5c3978166",
   "metadata": {},
   "outputs": [
    {
     "data": {
      "text/plain": [
       "array([0.96494157, 0.97996661, 0.96494157])"
      ]
     },
     "execution_count": 14,
     "metadata": {},
     "output_type": "execute_result"
    }
   ],
   "source": [
    "b = SVC() \n",
    "\n",
    "scores2 = cross_val_score(b, digits.data, digits.target, cv=3)\n",
    "\n",
    "scores2"
   ]
  },
  {
   "cell_type": "markdown",
   "id": "efd89174-b54b-4b76-9265-6bb00b76c484",
   "metadata": {},
   "source": [
    "###  **Random forest** model performance using **cross_val_score** "
   ]
  },
  {
   "cell_type": "code",
   "execution_count": 15,
   "id": "953d2c7b-1fdc-4a4f-87b2-6d6adbdb3966",
   "metadata": {},
   "outputs": [
    {
     "data": {
      "text/plain": [
       "array([0.94991653, 0.95325543, 0.92988314])"
      ]
     },
     "execution_count": 15,
     "metadata": {},
     "output_type": "execute_result"
    }
   ],
   "source": [
    "c = RandomForestClassifier()\n",
    "\n",
    "scores3 = cross_val_score(c,digits.data , digits.target , cv = 3)\n",
    "\n",
    "scores3"
   ]
  },
  {
   "cell_type": "markdown",
   "id": "b7a04b45-8b34-4944-a54f-18f29855bbf7",
   "metadata": {},
   "source": [
    "## Checking average of all model scores"
   ]
  },
  {
   "cell_type": "code",
   "execution_count": 16,
   "id": "9bfe00dc-c104-40d3-93bf-9d1c08b8fbb8",
   "metadata": {},
   "outputs": [],
   "source": [
    "import numpy as np "
   ]
  },
  {
   "cell_type": "code",
   "execution_count": 17,
   "id": "8f56bbce-1cb0-44f2-bb23-c2452250bf5d",
   "metadata": {},
   "outputs": [
    {
     "name": "stdout",
     "output_type": "stream",
     "text": [
      "0.9265442404006677\n",
      "0.9699499165275459\n",
      "0.9393433500278241\n"
     ]
    }
   ],
   "source": [
    "a  = LogisticRegression(solver = 'lbfgs', max_iter = 5000) \n",
    "b = SVC() \n",
    "c = RandomForestClassifier(n_estimators=40) \n",
    " \n",
    "scores1 = cross_val_score(a, digits.data, digits.target, cv=3) \n",
    "scores2 = cross_val_score(b, digits.data, digits.target, cv=3) \n",
    "scores3 = cross_val_score(c, digits.data, digits.target, cv=3) \n",
    " \n",
    "print(np.average(scores1)) \n",
    "print(np.average(scores2)) \n",
    "print(np.average(scores3)) \n"
   ]
  },
  {
   "cell_type": "code",
   "execution_count": null,
   "id": "fec92c1b-0a82-4263-a06f-089ca9da8384",
   "metadata": {},
   "outputs": [],
   "source": []
  }
 ],
 "metadata": {
  "kernelspec": {
   "display_name": "Python 3 (ipykernel)",
   "language": "python",
   "name": "python3"
  },
  "language_info": {
   "codemirror_mode": {
    "name": "ipython",
    "version": 3
   },
   "file_extension": ".py",
   "mimetype": "text/x-python",
   "name": "python",
   "nbconvert_exporter": "python",
   "pygments_lexer": "ipython3",
   "version": "3.11.4"
  }
 },
 "nbformat": 4,
 "nbformat_minor": 5
}
