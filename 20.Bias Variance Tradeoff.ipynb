{
 "cells": [
  {
   "cell_type": "markdown",
   "id": "d40eee27-0130-4d00-9287-a399d4fe40ce",
   "metadata": {},
   "source": [
    "# **Machine Leanring -: Bias Variance Trade off**\n",
    "-----\n",
    "-------"
   ]
  },
  {
   "cell_type": "markdown",
   "id": "ea81b579-2173-4d50-83f8-0a7e310d6e1e",
   "metadata": {},
   "source": [
    "### Import the libraries\n",
    "- Also install mlxtend Package"
   ]
  },
  {
   "cell_type": "code",
   "execution_count": 1,
   "id": "dc3e400d-715e-4e56-86eb-60bcc0472781",
   "metadata": {},
   "outputs": [],
   "source": [
    "import pandas as pd \n",
    "from sklearn.model_selection import train_test_split \n",
    "from sklearn.linear_model import LinearRegression \n",
    "from mlxtend.evaluate import bias_variance_decomp \n"
   ]
  },
  {
   "cell_type": "markdown",
   "id": "bf39c8bb-0ee2-453a-a3ba-f48ec9bacac2",
   "metadata": {},
   "source": [
    "### Loading the Dataset"
   ]
  },
  {
   "cell_type": "code",
   "execution_count": 2,
   "id": "3866e7b0-c34c-492c-99e9-66075ffdce3e",
   "metadata": {},
   "outputs": [
    {
     "data": {
      "text/html": [
       "<div>\n",
       "<style scoped>\n",
       "    .dataframe tbody tr th:only-of-type {\n",
       "        vertical-align: middle;\n",
       "    }\n",
       "\n",
       "    .dataframe tbody tr th {\n",
       "        vertical-align: top;\n",
       "    }\n",
       "\n",
       "    .dataframe thead th {\n",
       "        text-align: right;\n",
       "    }\n",
       "</style>\n",
       "<table border=\"1\" class=\"dataframe\">\n",
       "  <thead>\n",
       "    <tr style=\"text-align: right;\">\n",
       "      <th></th>\n",
       "      <th>Hours</th>\n",
       "      <th>Scores</th>\n",
       "    </tr>\n",
       "  </thead>\n",
       "  <tbody>\n",
       "    <tr>\n",
       "      <th>0</th>\n",
       "      <td>2.5</td>\n",
       "      <td>21</td>\n",
       "    </tr>\n",
       "    <tr>\n",
       "      <th>1</th>\n",
       "      <td>5.1</td>\n",
       "      <td>47</td>\n",
       "    </tr>\n",
       "    <tr>\n",
       "      <th>2</th>\n",
       "      <td>3.2</td>\n",
       "      <td>27</td>\n",
       "    </tr>\n",
       "    <tr>\n",
       "      <th>3</th>\n",
       "      <td>8.5</td>\n",
       "      <td>75</td>\n",
       "    </tr>\n",
       "    <tr>\n",
       "      <th>4</th>\n",
       "      <td>3.5</td>\n",
       "      <td>30</td>\n",
       "    </tr>\n",
       "  </tbody>\n",
       "</table>\n",
       "</div>"
      ],
      "text/plain": [
       "   Hours  Scores\n",
       "0    2.5      21\n",
       "1    5.1      47\n",
       "2    3.2      27\n",
       "3    8.5      75\n",
       "4    3.5      30"
      ]
     },
     "execution_count": 2,
     "metadata": {},
     "output_type": "execute_result"
    }
   ],
   "source": [
    "df = pd.read_csv('E:\\Data Science Notes\\8.MACHINE LEARNING\\student_scores\\student_scores.csv') \n",
    "\n",
    "df.head()"
   ]
  },
  {
   "cell_type": "code",
   "execution_count": 3,
   "id": "f544a450-3957-42b1-a3c7-af281aea9a64",
   "metadata": {},
   "outputs": [
    {
     "data": {
      "text/plain": [
       "(25, 2)"
      ]
     },
     "execution_count": 3,
     "metadata": {},
     "output_type": "execute_result"
    }
   ],
   "source": [
    "df.shape"
   ]
  },
  {
   "cell_type": "markdown",
   "id": "4e77e3ec-8d21-42f6-82b3-c67839de27c9",
   "metadata": {},
   "source": [
    "### Data Preparation"
   ]
  },
  {
   "cell_type": "code",
   "execution_count": 4,
   "id": "f32c6aca-b1b7-4370-a308-77ecd18fac19",
   "metadata": {},
   "outputs": [],
   "source": [
    " \n",
    "X = df.iloc[:, :-1].values \n",
    "y = df.iloc[:, 1].values \n"
   ]
  },
  {
   "cell_type": "markdown",
   "id": "90ef80b2-f81f-45b2-9ba6-096459933a72",
   "metadata": {},
   "source": [
    "### Splitting the dataset"
   ]
  },
  {
   "cell_type": "code",
   "execution_count": 5,
   "id": "15b53dcb-119f-417c-8c83-86ad3db3f5f2",
   "metadata": {},
   "outputs": [],
   "source": [
    "X_train, X_test, y_train, y_test = train_test_split(X, y, test_size = 0.2, random_state = 0) \n"
   ]
  },
  {
   "cell_type": "markdown",
   "id": "66102c2c-58e4-42a2-bccd-d11be234e1df",
   "metadata": {},
   "source": [
    "### Model Creation"
   ]
  },
  {
   "cell_type": "code",
   "execution_count": 6,
   "id": "ad03afb1-05a2-4b4b-9f19-8a31e54ed4de",
   "metadata": {},
   "outputs": [],
   "source": [
    "model = LinearRegression() \n"
   ]
  },
  {
   "cell_type": "markdown",
   "id": "7149754c-80ed-4c6c-9891-c12036ea1363",
   "metadata": {},
   "source": [
    "### Train the Model"
   ]
  },
  {
   "cell_type": "code",
   "execution_count": 7,
   "id": "307c477b-4e29-4668-a19c-4463f495489a",
   "metadata": {},
   "outputs": [],
   "source": [
    "mse, bias, var = bias_variance_decomp(model, X_train, y_train, X_test, y_test, loss='mse', num_rounds = 200, random_seed = 1) \n"
   ]
  },
  {
   "cell_type": "markdown",
   "id": "ffddd992-c8b3-4dd6-a4f6-d87beaf9df02",
   "metadata": {},
   "source": [
    "### Find **MSE**"
   ]
  },
  {
   "cell_type": "code",
   "execution_count": 8,
   "id": "fbb598f6-d5ea-4973-a1c9-7cde35f246c6",
   "metadata": {},
   "outputs": [
    {
     "name": "stdout",
     "output_type": "stream",
     "text": [
      "MSE: 25.994907724912153\n"
     ]
    }
   ],
   "source": [
    "print('MSE:', mse) "
   ]
  },
  {
   "cell_type": "markdown",
   "id": "2e077cc1-6900-4c8a-bc87-3a0d5482389f",
   "metadata": {},
   "source": [
    "### Find **Bias**"
   ]
  },
  {
   "cell_type": "code",
   "execution_count": 9,
   "id": "e440c6df-4cf2-4529-b7fc-2a3a8263b5c7",
   "metadata": {},
   "outputs": [
    {
     "name": "stdout",
     "output_type": "stream",
     "text": [
      "Bias:  22.41211837451609\n"
     ]
    }
   ],
   "source": [
    "print(\"Bias: \",bias)"
   ]
  },
  {
   "cell_type": "markdown",
   "id": "6b9d2d88-dc30-45b2-82d1-e7329b3f0190",
   "metadata": {},
   "source": [
    "### Find **Variance**"
   ]
  },
  {
   "cell_type": "code",
   "execution_count": 10,
   "id": "9d3749e8-f253-41f1-97a5-cbbc02cb6779",
   "metadata": {},
   "outputs": [
    {
     "name": "stdout",
     "output_type": "stream",
     "text": [
      "variance:  3.5827893503960495\n"
     ]
    }
   ],
   "source": [
    "print(\"variance: \",var)"
   ]
  }
 ],
 "metadata": {
  "kernelspec": {
   "display_name": "Python 3 (ipykernel)",
   "language": "python",
   "name": "python3"
  },
  "language_info": {
   "codemirror_mode": {
    "name": "ipython",
    "version": 3
   },
   "file_extension": ".py",
   "mimetype": "text/x-python",
   "name": "python",
   "nbconvert_exporter": "python",
   "pygments_lexer": "ipython3",
   "version": "3.11.4"
  }
 },
 "nbformat": 4,
 "nbformat_minor": 5
}
